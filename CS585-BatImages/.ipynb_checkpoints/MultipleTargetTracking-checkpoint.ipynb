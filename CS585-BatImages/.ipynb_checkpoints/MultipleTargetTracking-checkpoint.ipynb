{
 "cells": [
  {
   "cell_type": "code",
   "execution_count": 149,
   "metadata": {},
   "outputs": [],
   "source": [
    "import cv2\n",
    "import numpy as np\n",
    "from os import listdir\n",
    "from os.path import join, isfile\n",
    "import munkres\n",
    "import random\n",
    "from math import cos, sin\n",
    "\n",
    "img_path = '../CS585-Cells'"
   ]
  },
  {
   "cell_type": "code",
   "execution_count": 150,
   "metadata": {},
   "outputs": [],
   "source": [
    "files = [join(img_path, f) for f in listdir(img_path) if isfile(join(img_path, f))]\n",
    "img = []\n",
    "for i in range(len(files)):\n",
    "    img.append(cv2.imread(files[i]))"
   ]
  },
  {
   "cell_type": "code",
   "execution_count": 159,
   "metadata": {},
   "outputs": [],
   "source": [
    "def threshold(img):\n",
    "    adaptive_threshold = cv2.adaptiveThreshold(img, 255, cv2.ADAPTIVE_THRESH_MEAN_C, cv2.THRESH_BINARY, 17, -5)\n",
    "    \n",
    "#     contours, hierarchy = cv2.findContours(adaptive_threshold, cv2.RETR_TREE, cv2.CHAIN_APPROX_SIMPLE)\n",
    "    \n",
    "    return adaptive_threshold"
   ]
  },
  {
   "cell_type": "code",
   "execution_count": 163,
   "metadata": {},
   "outputs": [],
   "source": [
    "img_idx = 1\n",
    "while img_idx < len(files):\n",
    "        curr = img[img_idx]\n",
    "        gray = cv2.cvtColor(curr, cv2.COLOR_BGR2GRAY)\n",
    "        blur = cv2.GaussianBlur(gray, (11,11),0)\n",
    "        \n",
    "        thresh_output = threshold(blur)\n",
    "        kernel = np.ones((10,10), np.uint8)\n",
    "        dialated = cv2.dilate(thresh_output, kernel, iterations=1)\n",
    "\n",
    "        cv2.namedWindow(\"Display\", cv2.WINDOW_AUTOSIZE)\n",
    "        cv2.imshow(\"Display\", dialated)\n",
    "        if cv2.waitKey(100)&0xFF == 27:\n",
    "            break\n",
    "        img_idx += 1\n",
    "        \n",
    "cv2.destroyAllWindows()"
   ]
  },
  {
   "cell_type": "code",
   "execution_count": null,
   "metadata": {},
   "outputs": [],
   "source": []
  }
 ],
 "metadata": {
  "kernelspec": {
   "display_name": "Python 3",
   "language": "python",
   "name": "python3"
  },
  "language_info": {
   "codemirror_mode": {
    "name": "ipython",
    "version": 3
   },
   "file_extension": ".py",
   "mimetype": "text/x-python",
   "name": "python",
   "nbconvert_exporter": "python",
   "pygments_lexer": "ipython3",
   "version": "3.7.6"
  }
 },
 "nbformat": 4,
 "nbformat_minor": 4
}
