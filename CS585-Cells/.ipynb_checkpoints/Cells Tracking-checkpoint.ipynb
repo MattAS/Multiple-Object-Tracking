{
 "cells": [
  {
   "cell_type": "code",
   "execution_count": 1,
   "metadata": {},
   "outputs": [],
   "source": [
    "import cv2 \n",
    "import numpy as np\n",
    "from os import listdir\n",
    "from os.path import join, isfile\n",
    "\n",
    "img_path = './Gray'\n",
    "thresh = 128\n",
    "max_thresh = 255"
   ]
  },
  {
   "cell_type": "code",
   "execution_count": 3,
   "metadata": {},
   "outputs": [],
   "source": [
    "files = [join(img_path, f) for f in listdir(img_path) if isfile(join(img_path, f))]\n",
    "img = []\n",
    "for i in range(len(files)):\n",
    "    img.append(cv2.imread(files[i]))"
   ]
  },
  {
   "cell_type": "code",
   "execution_count": 5,
   "metadata": {},
   "outputs": [],
   "source": [
    "img_idx = 1\n",
    "\n",
    "while img_idx < len(files):\n",
    "    cur = img[img_idx]\n",
    "    cv2.namedWindow(\"Display\", cv2.WINDOW_AUTOSIZE)\n",
    "    cv2.imshow(\"Display\", cur)\n",
    "    \n",
    "    if cv2.waitKey(100)&0xFF == 27:\n",
    "        break\n",
    "    img_idx += 1\n",
    "\n",
    "cv2.destroyAllWindows()"
   ]
  },
  {
   "cell_type": "code",
   "execution_count": null,
   "metadata": {},
   "outputs": [],
   "source": []
  }
 ],
 "metadata": {
  "kernelspec": {
   "display_name": "Python 3",
   "language": "python",
   "name": "python3"
  },
  "language_info": {
   "codemirror_mode": {
    "name": "ipython",
    "version": 3
   },
   "file_extension": ".py",
   "mimetype": "text/x-python",
   "name": "python",
   "nbconvert_exporter": "python",
   "pygments_lexer": "ipython3",
   "version": "3.7.6"
  }
 },
 "nbformat": 4,
 "nbformat_minor": 4
}
